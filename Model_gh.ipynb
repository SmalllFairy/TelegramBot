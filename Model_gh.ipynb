{
 "cells": [
  {
   "cell_type": "code",
   "execution_count": 1,
   "metadata": {
    "collapsed": true
   },
   "outputs": [],
   "source": [
    "%matplotlib inline \n",
    "import numpy as np\n",
    "import pandas as pd\n",
    "import pymorphy2\n",
    "import nltk\n",
    "import string\n",
    "import re\n",
    "import time\n",
    "import pickle\n",
    "import operator\n",
    "import collections\n",
    "import matplotlib.pyplot as plt\n",
    "import pylab as pl\n",
    "import math\n",
    "import json\n",
    "\n",
    "from collections import Counter,OrderedDict\n",
    "from itertools import cycle\n",
    "from scipy import spatial\n",
    "from sklearn.externals import joblib\n",
    "from sklearn.preprocessing import scale\n",
    "from sklearn.decomposition import TruncatedSVD\n",
    "from sklearn.feature_extraction.text import TfidfVectorizer\n",
    "from sklearn.cluster import KMeans, MiniBatchKMeans\n",
    "from sklearn.metrics.pairwise import pairwise_distances_argmin,cosine_similarity\n",
    "from sklearn.preprocessing import scale\n",
    "from gensim.corpora import WikiCorpus\n",
    "from gensim.models import Word2Vec,KeyedVectors\n",
    "from nltk import word_tokenize\n",
    "from nltk.corpus import stopwords"
   ]
  },
  {
   "cell_type": "code",
   "execution_count": 2,
   "metadata": {
    "scrolled": true
   },
   "outputs": [
    {
     "data": {
      "text/plain": [
       "(40117, 2)"
      ]
     },
     "execution_count": 2,
     "metadata": {},
     "output_type": "execute_result"
    }
   ],
   "source": [
    "data = pd.read_csv('vk.csv')\n",
    "data = data.drop(data.columns[[0]], axis=1) \n",
    "data.shape"
   ]
  },
  {
   "cell_type": "code",
   "execution_count": 3,
   "metadata": {},
   "outputs": [
    {
     "data": {
      "text/plain": [
       "(40081, 2)"
      ]
     },
     "execution_count": 3,
     "metadata": {},
     "output_type": "execute_result"
    }
   ],
   "source": [
    "# обработка пропущенных значений - удаляем пустые строки из данных\n",
    "data_upd = data.dropna(axis = 0)\n",
    "data_upd.shape"
   ]
  },
  {
   "cell_type": "code",
   "execution_count": 4,
   "metadata": {
    "collapsed": true
   },
   "outputs": [],
   "source": [
    "# Сохраняем словарь в json-формат \n",
    "# json.dump(data_upd.values.tolist(),open(\"faq.json\",\"w\"))  \n",
    "\n",
    "# Читаем из .json\n",
    "# data_load= json.load(open(\"faq.json\",\"rb\"))"
   ]
  },
  {
   "cell_type": "code",
   "execution_count": 5,
   "metadata": {
    "collapsed": true
   },
   "outputs": [],
   "source": [
    "questions = data_upd['question']"
   ]
  },
  {
   "cell_type": "code",
   "execution_count": 6,
   "metadata": {},
   "outputs": [
    {
     "data": {
      "text/plain": [
       "(40081,)"
      ]
     },
     "execution_count": 6,
     "metadata": {},
     "output_type": "execute_result"
    }
   ],
   "source": [
    "questions.shape"
   ]
  },
  {
   "cell_type": "code",
   "execution_count": 7,
   "metadata": {
    "collapsed": true
   },
   "outputs": [],
   "source": [
    "stop_words = nltk.corpus.stopwords.words('russian')"
   ]
  },
  {
   "cell_type": "code",
   "execution_count": 8,
   "metadata": {
    "collapsed": true
   },
   "outputs": [],
   "source": [
    "def text_preproc_corpus(text):\n",
    "    \n",
    "    #apply nltk tokenization\n",
    "    token_text = []\n",
    "    tokens = [nltk.word_tokenize(sent) for sent in text]\n",
    "    \n",
    "    # delete punctuation\n",
    "    text_punct = []\n",
    "    s = []\n",
    "    for sent in tokens:\n",
    "        for word in sent:\n",
    "            s.append(re.sub('[a-zA-Z]+|[\\d\\\"\\•\\)\\(\\%\\.\\,\\;\\:\\!\\?\\_\\-\\+\\/\\|\\>\\<\\\\\\*\\@\\#\\$\\^\\'\\&\\=\\]]','',word))\n",
    "        text_punct.append(s)\n",
    "        s = []\n",
    "\n",
    "    # lemmatize\n",
    "    lem_text = []\n",
    "    grams_exclusion = {'NUMB','PREP', 'CONJ', 'PRCL', 'INTJ','NPRO','NNP','NNPS'}\n",
    "    for sent in text_punct:\n",
    "        lem_sent =  [morph.parse(word)[0].normal_form for word in sent if morph.parse(word)[0].tag.POS not in grams_exclusion]\n",
    "        lem_text.append(lem_sent)\n",
    "          \n",
    "    # delete stop words \n",
    "    stop_words = nltk.corpus.stopwords.words('russian')\n",
    "    stop_words.extend(['сумма','рубль','опять','почему','снова','каков','здесь','поэтому','както','какнибудь','какиминибудь','какиелибо','какимто','банка','недалеко','никакой','ранее','ктонибудь','часть','всего','давно','тысяча','далее','много','самый','вообще','потом','добрый','деньга','какой','такой','почему','другой','нужно','время','сейчас','теперь','можно','который','как','каждый','назад','очень','что','когда','тогда','более','менее'])\n",
    "    text_stop = []\n",
    "    for sent in lem_text:\n",
    "        t =[w for w in sent if w not in stop_words]\n",
    "        text_stop.append(t)\n",
    "        \n",
    "    # delete words with len(words)<=3\n",
    "    text_proc = []\n",
    "    for sent in text_stop:\n",
    "        t = [word for word in sent if len(word)>4]\n",
    "        text_proc.append(t)\n",
    "        \n",
    "    return text_proc"
   ]
  },
  {
   "cell_type": "code",
   "execution_count": 9,
   "metadata": {
    "collapsed": true
   },
   "outputs": [],
   "source": [
    "morph = pymorphy2.MorphAnalyzer()"
   ]
  },
  {
   "cell_type": "code",
   "execution_count": 8,
   "metadata": {
    "collapsed": true
   },
   "outputs": [],
   "source": [
    "w2v = pickle.load(open('/word_vectors.pkl', \"rb\"))"
   ]
  },
  {
   "cell_type": "code",
   "execution_count": 9,
   "metadata": {
    "collapsed": true
   },
   "outputs": [],
   "source": [
    "qst_preproc = text_preproc_corpus(questions)"
   ]
  },
  {
   "cell_type": "code",
   "execution_count": 10,
   "metadata": {},
   "outputs": [
    {
     "data": {
      "text/plain": [
       "40081"
      ]
     },
     "execution_count": 10,
     "metadata": {},
     "output_type": "execute_result"
    }
   ],
   "source": [
    "len(qst_preproc)"
   ]
  },
  {
   "cell_type": "code",
   "execution_count": 7,
   "metadata": {},
   "outputs": [],
   "source": [
    "qst_preproc_tfidf = []\n",
    "for sent in qst_preproc:\n",
    "    t = ' '.join([word for word in sent])\n",
    "    qst_preproc_tfidf.append(t)"
   ]
  },
  {
   "cell_type": "code",
   "execution_count": 12,
   "metadata": {},
   "outputs": [
    {
     "data": {
      "text/plain": [
       "40081"
      ]
     },
     "execution_count": 12,
     "metadata": {},
     "output_type": "execute_result"
    }
   ],
   "source": [
    "len(qst_preproc_tfidf)"
   ]
  },
  {
   "cell_type": "code",
   "execution_count": 13,
   "metadata": {
    "collapsed": true
   },
   "outputs": [],
   "source": [
    "vectorizer = TfidfVectorizer(ngram_range=(1, 3), analyzer='word', min_df=10,max_df = 0.8, use_idf=True, sublinear_tf= True)\n",
    "qst_tfidf = vectorizer.fit_transform(qst_preproc_tfidf)\n",
    "tfidf = dict(zip(vectorizer.get_feature_names(), vectorizer.idf_))"
   ]
  },
  {
   "cell_type": "code",
   "execution_count": 40,
   "metadata": {
    "collapsed": true
   },
   "outputs": [],
   "source": [
    "# сохраняем vectorizer\n",
    "# joblib.dump(vectorizer, 'tfidf.pkl')\n",
    "\n",
    "# загружаем vectorizer\n",
    "# vectorizer_loaded= joblib.load(open('tfidf.pkl', \"rb\"))"
   ]
  },
  {
   "cell_type": "code",
   "execution_count": 14,
   "metadata": {},
   "outputs": [
    {
     "data": {
      "text/plain": [
       "(40081, 9850)"
      ]
     },
     "execution_count": 14,
     "metadata": {},
     "output_type": "execute_result"
    }
   ],
   "source": [
    "qst_tfidf.shape"
   ]
  },
  {
   "cell_type": "code",
   "execution_count": 10,
   "metadata": {
    "collapsed": true,
    "scrolled": true
   },
   "outputs": [],
   "source": [
    "sorted_tfidf = collections.OrderedDict(sorted(tfidf.items(),key=lambda value: value[1]))\n",
    "for name,freq in sorted_tfidf.items():\n",
    "    print (freq,name)"
   ]
  },
  {
   "cell_type": "code",
   "execution_count": 15,
   "metadata": {
    "collapsed": true
   },
   "outputs": [],
   "source": [
    " def featurize_w2v(model, text, vsize=300):\n",
    "    f = np.zeros((len(text), vsize))\n",
    "    for i,s in enumerate(text):\n",
    "        for w in s:\n",
    "            try:\n",
    "                vec = model[w].reshape((1, vsize))*tfidf[w]\n",
    "            except KeyError:\n",
    "                continue\n",
    "            f[i,:] = f[i,:] + vec\n",
    "        if len(s) !=0: \n",
    "            f[i,:] = f[i,:] / len(s)\n",
    "    return f"
   ]
  },
  {
   "cell_type": "code",
   "execution_count": 16,
   "metadata": {},
   "outputs": [
    {
     "name": "stdout",
     "output_type": "stream",
     "text": [
      "(40081, 300)\n"
     ]
    }
   ],
   "source": [
    "qst_w2v = featurize_w2v(w2v, qst_preproc) \n",
    "print (qst_w2v.shape)"
   ]
  },
  {
   "cell_type": "markdown",
   "metadata": {},
   "source": [
    "### K-Means clustering"
   ]
  },
  {
   "cell_type": "markdown",
   "metadata": {
    "collapsed": true
   },
   "source": [
    "#### Определяем opt количество кластеров"
   ]
  },
  {
   "cell_type": "code",
   "execution_count": null,
   "metadata": {
    "collapsed": true
   },
   "outputs": [],
   "source": [
    "n_cl = list(range(200, 2000, 200))"
   ]
  },
  {
   "cell_type": "code",
   "execution_count": 40,
   "metadata": {},
   "outputs": [
    {
     "name": "stdout",
     "output_type": "stream",
     "text": [
      "CPU times: user 7h 17min 16s, sys: 3h 2min 51s, total: 10h 20min 8s\n",
      "Wall time: 16h 48min 45s\n"
     ]
    }
   ],
   "source": [
    "%%time\n",
    "# Inertia or within-cluster sum-of-squares (WCSS) - метрика базируется на измерении внутрикластерного расстояния между объектами \n",
    "# Эвристика - выбирают то число кластеров, начиная с которого описанный функционал падает \"уже не так быстро\". \n",
    "\n",
    "inertia = []\n",
    "N_cl = range(1000,5000,500)\n",
    "for i in N_cl:\n",
    "    kmeans = KMeans(n_clusters = i, init='k-means++', random_state=1, max_iter=300, n_init=10, tol = 0.0001)\n",
    "    inert = np.sqrt(kmeans.fit(qst_w2v).inertia_)\n",
    "    inertia.append(inert)\n",
    "\n",
    "inertia = np.asmatrix(inertia) "
   ]
  },
  {
   "cell_type": "code",
   "execution_count": 41,
   "metadata": {},
   "outputs": [
    {
     "data": {
      "text/plain": [
       "matrix([[2384.7551934 , 2285.2974994 , 2207.52960372, 2144.3406736 ,\n",
       "         2086.17302146, 2036.9517854 , 1990.32198401, 1946.549904  ]])"
      ]
     },
     "execution_count": 41,
     "metadata": {},
     "output_type": "execute_result"
    }
   ],
   "source": [
    "inertia"
   ]
  },
  {
   "cell_type": "code",
   "execution_count": 43,
   "metadata": {},
   "outputs": [
    {
     "data": {
      "text/plain": [
       "Text(0.5,1,'Dependency: Inertia VS Number of Clusters')"
      ]
     },
     "execution_count": 43,
     "metadata": {},
     "output_type": "execute_result"
    },
    {
     "data": {
      "image/png": "[encoded data removed]",
      "text/plain": [
       "<matplotlib.figure.Figure at 0x118b67128>"
      ]
     },
     "metadata": {},
     "output_type": "display_data"
    }
   ],
   "source": [
    "pl.plot(N_cl, inertia.T, marker='s')\n",
    "pl.xlabel('Number of Clusters')\n",
    "pl.ylabel('WCSS')\n",
    "pl.title('Dependency: Inertia VS Number of Clusters')"
   ]
  },
  {
   "cell_type": "code",
   "execution_count": 11,
   "metadata": {
    "collapsed": true
   },
   "outputs": [],
   "source": [
    "%%time\n",
    "# The elbow curve shows the percentage of variance explained by the number of clusters.\n",
    "# When graph levels stabilized it means that adding of more clusters do not explain much more of the variance\n",
    "# in our relevant variable; in this case the number of clusters will be optimal.\n",
    "\n",
    "N = range(200,2000,200)\n",
    "scores = []\n",
    "for i in N:\n",
    "    kmeans = KMeans(n_clusters = i, init='k-means++', random_state=1, max_iter=300, n_init=10, tol = 0.0001)\n",
    "    score = kmeans.fit(qst_w2v).score(qst_w2v)\n",
    "    print (\"-----Score\" +' ' + str(i) + ' ' + 'is executed!--------')\n",
    "    scores.append(score)\n",
    "scores = np.asmatrix(scores)"
   ]
  },
  {
   "cell_type": "code",
   "execution_count": 48,
   "metadata": {},
   "outputs": [
    {
     "data": {
      "text/plain": [
       "matrix([[-7423787.045509  , -6686371.3897236 , -6240565.34509238,\n",
       "         -5927547.84462396, -5687057.33246318, -5485010.63684543,\n",
       "         -5299231.12794297, -5151255.83777629, -5002730.0683756 ]])"
      ]
     },
     "execution_count": 48,
     "metadata": {},
     "output_type": "execute_result"
    }
   ],
   "source": [
    "scores"
   ]
  },
  {
   "cell_type": "code",
   "execution_count": 49,
   "metadata": {},
   "outputs": [
    {
     "data": {
      "text/plain": [
       "Text(0.5,1,'Elbow Curve')"
      ]
     },
     "execution_count": 49,
     "metadata": {},
     "output_type": "execute_result"
    },
    {
     "data": {
      "image/png": "[encoded data removed]",
      "text/plain": [
       "<matplotlib.figure.Figure at 0x118bd1978>"
      ]
     },
     "metadata": {},
     "output_type": "display_data"
    }
   ],
   "source": [
    "pl.plot(N,scores.T, marker='s')\n",
    "pl.xlabel('Number of Clusters')\n",
    "pl.ylabel('Percentage of variance explained')\n",
    "pl.title('Elbow Curve')"
   ]
  },
  {
   "cell_type": "markdown",
   "metadata": {},
   "source": [
    "#### Выполняем кластеризацию"
   ]
  },
  {
   "cell_type": "code",
   "execution_count": 24,
   "metadata": {
    "collapsed": true
   },
   "outputs": [],
   "source": [
    "kmeans = KMeans(n_clusters = 200, init='k-means++', random_state=1, max_iter=300, n_init=10, tol = 0.0001)"
   ]
  },
  {
   "cell_type": "code",
   "execution_count": 25,
   "metadata": {},
   "outputs": [
    {
     "name": "stdout",
     "output_type": "stream",
     "text": [
      "CPU times: user 4min 59s, sys: 38.6 s, total: 5min 38s\n",
      "Wall time: 4min 42s\n"
     ]
    },
    {
     "data": {
      "text/plain": [
       "array([ 90,  32, 115, ...,  94, 124, 184], dtype=int32)"
      ]
     },
     "execution_count": 25,
     "metadata": {},
     "output_type": "execute_result"
    }
   ],
   "source": [
    "%%time\n",
    "kmeans.fit_predict(qst_w2v)"
   ]
  },
  {
   "cell_type": "code",
   "execution_count": 1039,
   "metadata": {},
   "outputs": [
    {
     "data": {
      "text/plain": [
       "array([ 90,  32, 115, ...,  94, 124, 184], dtype=int32)"
      ]
     },
     "execution_count": 1039,
     "metadata": {},
     "output_type": "execute_result"
    }
   ],
   "source": [
    "kmeans.labels_"
   ]
  },
  {
   "cell_type": "code",
   "execution_count": 4,
   "metadata": {
    "collapsed": true
   },
   "outputs": [],
   "source": [
    "# сохраняем обученную модель\n",
    "# joblib.dump(kmeans, 'km_model.pkl')\n",
    "\n",
    "# загружаем модель\n",
    "# km = joblib.load(open('km_model.pkl', \"rb\"))"
   ]
  },
  {
   "cell_type": "code",
   "execution_count": 26,
   "metadata": {},
   "outputs": [
    {
     "data": {
      "text/plain": [
       "array([ 90,  32, 115, ...,  94, 124, 184], dtype=int32)"
      ]
     },
     "execution_count": 26,
     "metadata": {},
     "output_type": "execute_result"
    }
   ],
   "source": [
    "km.labels_"
   ]
  },
  {
   "cell_type": "code",
   "execution_count": 27,
   "metadata": {
    "collapsed": true
   },
   "outputs": [],
   "source": [
    "labels = km.labels_\n",
    "centroids = km.cluster_centers_\n",
    "clusters = len(km.cluster_centers_)"
   ]
  },
  {
   "cell_type": "code",
   "execution_count": 28,
   "metadata": {
    "scrolled": true
   },
   "outputs": [
    {
     "data": {
      "image/png": "[encoded data removed]",
      "text/plain": [
       "<matplotlib.figure.Figure at 0x1131322e8>"
      ]
     },
     "metadata": {},
     "output_type": "display_data"
    }
   ],
   "source": [
    "label, values = zip(*Counter(labels).items())\n",
    "\n",
    "indexes = np.arange(len(label))\n",
    "width = 1\n",
    "\n",
    "plt.bar(indexes, values, width)\n",
    "plt.xticks(indexes + width * 0.5, labels)\n",
    "plt.show()"
   ]
  },
  {
   "cell_type": "code",
   "execution_count": 29,
   "metadata": {
    "scrolled": false
   },
   "outputs": [
    {
     "data": {
      "image/png": "[encoded data removed]",
      "text/plain": [
       "<matplotlib.figure.Figure at 0x113185b00>"
      ]
     },
     "metadata": {},
     "output_type": "display_data"
    },
    {
     "name": "stdout",
     "output_type": "stream",
     "text": [
      "CPU times: user 2min 21s, sys: 13.1 s, total: 2min 34s\n",
      "Wall time: 2min 41s\n"
     ]
    }
   ],
   "source": [
    "%%time\n",
    "plt.figure(1)\n",
    "plt.clf()\n",
    " \n",
    "colors = cycle('bgrcmykbgrcmykbgrcmykbgrcmyk')\n",
    "for k, col in zip(range(0,clusters), colors):\n",
    "    my_members = labels == k\n",
    "    cluster_center = centroids[k]\n",
    "    plt.plot(qst_w2v[my_members], qst_w2v[my_members], col + '.')\n",
    "    plt.plot(cluster_center[0], cluster_center[1],'o', markerfacecolor=col,markeredgecolor='k', markersize=14)\n",
    "plt.title('Estimated number of clusters: %d' %clusters)\n",
    "plt.show()"
   ]
  },
  {
   "cell_type": "markdown",
   "metadata": {},
   "source": [
    "#### Присваиваем текстовые имена кластерами "
   ]
  },
  {
   "cell_type": "code",
   "execution_count": 33,
   "metadata": {
    "collapsed": true
   },
   "outputs": [],
   "source": [
    "def top_n_words(questions, n):\n",
    "    words = []\n",
    "    for el in questions:\n",
    "        words += el.split(' ')\n",
    "    words_count = Counter(words).most_common()[:n]\n",
    "    w = []    \n",
    "    for word in words_count:\n",
    "        w.append(word[0])\n",
    "    return w"
   ]
  },
  {
   "cell_type": "code",
   "execution_count": 34,
   "metadata": {
    "collapsed": true
   },
   "outputs": [],
   "source": [
    "cl_qst = []*questions.shape[0]\n",
    "for i in range(questions.shape[0]):\n",
    "    cl_qst += [(km.labels_[i],i)]"
   ]
  },
  {
   "cell_type": "code",
   "execution_count": 1,
   "metadata": {},
   "outputs": [],
   "source": [
    "clst_names_2 = []\n",
    "cluster_words = [[]] * clusters\n",
    "for i in range(0, clusters):\n",
    "    cluster_words[i] = []\n",
    "\n",
    "for i in range(0,len(cl_qst)):\n",
    "    cur_cluster = cl_qst[i][0]\n",
    "    cluster_words[cur_cluster] += [qst_preproc_tfidf[i]]\n",
    "    \n",
    "for i in range(0, clusters):\n",
    "    clst_names_2 += [top_n_words(cluster_words[i], 6)]\n",
    "    \n",
    "for i in range(0, clusters):\n",
    "    print ('Cluster' + str(i) + ': '+ str(clst_names_2[i]) +'\\n===========')"
   ]
  },
  {
   "cell_type": "code",
   "execution_count": 38,
   "metadata": {
    "collapsed": true
   },
   "outputs": [],
   "source": [
    "# Cоздаем словарь, где ключом являются номера кластеров, а элементами - векторизованные представления документов,принадлежащие им\n",
    "\n",
    "arr_matrix = qst_w2v\n",
    "matrix_id = []\n",
    "for i in range(0, arr_matrix.shape[0]):\n",
    "    matrix_id += [(arr_matrix[i],i)]\n",
    "    \n",
    "vect_qst = [[]]*clusters\n",
    "for key, cluster_id in zip(matrix_id, km.labels_):\n",
    "    if len(vect_qst[cluster_id]) == 0:\n",
    "        vect_qst[cluster_id] = []\n",
    "    arr = key[0].tolist()\n",
    "    vect_qst[cluster_id] += [(arr, key[1])]"
   ]
  },
  {
   "cell_type": "code",
   "execution_count": 39,
   "metadata": {
    "collapsed": true
   },
   "outputs": [],
   "source": [
    "# Сохраняем словарь в json-формат \n",
    "# json.dump(vect_qst,open(\"vect_qst.json\",\"w\"))  \n",
    "\n",
    "# Читаем из .json\n",
    "# vect_qst_loaded = json.load(open(\"vect_qst.json\",\"rb\"))"
   ]
  },
  {
   "cell_type": "markdown",
   "metadata": {},
   "source": [
    "### Находим ответы на вопросы"
   ]
  },
  {
   "cell_type": "markdown",
   "metadata": {},
   "source": [
    "#### Формат ответа: \n",
    "#### result1 = [список 5 ближайших троек вида: {вопрос, ответ, confidence}, \n",
    "#### result2 = [список названий/эталонных вопросов 5 ближайших кластеров с некоторым confidence]"
   ]
  },
  {
   "cell_type": "code",
   "execution_count": 3,
   "metadata": {
    "scrolled": true
   },
   "outputs": [],
   "source": [
    "# находим ближайший вопрос для нового обращения\n",
    "text =['здравствуйте! подскажите, как оформить ипотеку онлайн?']\n",
    "vec1 = featurize_w2v(w2v,text_preproc_corpus(text))\n",
    "dist = []\n",
    "\n",
    "for i in range(len(vect_qst_loaded)):\n",
    "    for j in range(len(vect_qst_loaded[i])):\n",
    "        similarity = 1 - spatial.distance.cosine(vec1, vect_qst_loaded[i][j][0])\n",
    "        dist += [(similarity, vect_qst_loaded[i][j][1], i)]\n",
    "\n",
    "dist.sort(reverse=True)\n",
    "dist[:5]"
   ]
  },
  {
   "cell_type": "code",
   "execution_count": 2,
   "metadata": {},
   "outputs": [],
   "source": [
    "result1 = []\n",
    "\n",
    "for i in range(0, 5):\n",
    "    doc_idx = dist[i][1]\n",
    "    result1 += [(data_upd['question'][doc_idx], data_upd['answer'][doc_idx], dist[i][0])]\n",
    "\n",
    "for x in result1:\n",
    "    print ('Вопрос:\\n' + str(x[0]) + \"\\n\" + 'Ответ:\\n' + str(x[1]) + \"\\n\" + 'Confidence: ' + str(x[2]*100) + \"\\n===========\")   "
   ]
  },
  {
   "cell_type": "code",
   "execution_count": 4,
   "metadata": {},
   "outputs": [],
   "source": [
    "# находим ближайший кластер для нового обращения\n",
    "dist_clst = []\n",
    "\n",
    "for i in range(len(centroids)):\n",
    "        similarity = 1 - spatial.distance.cosine(vec1, centroids[i])\n",
    "        dist_clst += [(similarity,  i)]\n",
    "dist_clst.sort(reverse=True)\n",
    "dist_clst[:5]"
   ]
  },
  {
   "cell_type": "code",
   "execution_count": 5,
   "metadata": {
    "scrolled": true
   },
   "outputs": [],
   "source": [
    "result2 = []\n",
    "\n",
    "for i in range(0, 5):\n",
    "    clst_id = dist_clst[i][1]\n",
    "    result2 += [(clst_id, reference_qst[clst_id][0], reference_qst[clst_id][1], dist_clst[i][0])]\n",
    "\n",
    "for x in result2:\n",
    "    print ('Имя кластера: ' + str(x[0]) + '. ' + str(x[1]) + \"\\n\" +'Reference question: ' + str(x[2]) + \"\\n\" + 'Confidence: ' + str(x[3]*100) + \"\\n===========\")"
   ]
  },
  {
   "cell_type": "markdown",
   "metadata": {},
   "source": [
    "#### Находим референсный (эталонный) вопрос для каждого кластера"
   ]
  },
  {
   "cell_type": "code",
   "execution_count": 6,
   "metadata": {},
   "outputs": [],
   "source": [
    "from sklearn.metrics import pairwise_distances_argmin_min\n",
    "\n",
    "closest, _ = pairwise_distances_argmin_min(km.cluster_centers_, qst_w2v)\n",
    "ref_qst = []\n",
    "for i in range(0,clusters):\n",
    "    ref = [str(closest[i]),questions[closest[i]]]\n",
    "    ref_qst.append(ref)\n",
    "    ref = []\n",
    "\n",
    "# создаем список референсных вопросов и названий кластеров, где ключом является номер кластера    \n",
    "reference_qst = []\n",
    "for i in range(len(dist1_sort_top)):\n",
    "    reference_qst += [(clst_names_2[i], ref_qst[i])]\n",
    "\n",
    "for i in range(0,clusters):\n",
    "    print ('Reference question, cluster ID ' + str(i) + ': ' + str(reference_qst[i]) + '\\n==========')"
   ]
  },
  {
   "cell_type": "code",
   "execution_count": 1290,
   "metadata": {
    "collapsed": true
   },
   "outputs": [],
   "source": [
    "# загружаем в json базу эталонных(референсных) вопросов для каждого кластера\n",
    "# json.dump(reference_qst,open(\"reference_qst.json\",\"w\"))  \n",
    "\n",
    "# Читаем из .json\n",
    "# reference_qst_loaded = json.load(open(\"reference_qst.json\" ,\"rb\"))"
   ]
  }
 ],
 "metadata": {
  "kernelspec": {
   "display_name": "Python 3",
   "language": "python",
   "name": "python3"
  },
  "language_info": {
   "codemirror_mode": {
    "name": "ipython",
    "version": 3
   },
   "file_extension": ".py",
   "mimetype": "text/x-python",
   "name": "python",
   "nbconvert_exporter": "python",
   "pygments_lexer": "ipython3",
   "version": "3.6.4"
  }
 },
 "nbformat": 4,
 "nbformat_minor": 2
}
